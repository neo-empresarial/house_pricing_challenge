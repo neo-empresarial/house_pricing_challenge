{
 "cells": [
  {
   "cell_type": "code",
   "execution_count": 42,
   "metadata": {},
   "outputs": [],
   "source": [
    "import pandas as pd\n",
    "import numpy as np\n",
    "from sklearn.tree import DecisionTreeRegressor\n",
    "from sklearn.model_selection import train_test_split\n",
    "from sklearn.preprocessing import PowerTransformer\n",
    "from sklearn.pipeline import Pipeline\n",
    "from sklearn.metrics import mean_squared_log_error\n",
    "from sklearn.compose import TransformedTargetRegressor"
   ]
  },
  {
   "cell_type": "code",
   "execution_count": 38,
   "metadata": {},
   "outputs": [],
   "source": [
    "df = pd.read_csv('../data/processed/train_old_feature_eng.csv')\n",
    "df['MasVnrArea'].fillna(0, inplace=True)"
   ]
  },
  {
   "cell_type": "code",
   "execution_count": 46,
   "metadata": {},
   "outputs": [],
   "source": [
    "def fit_and_predict(df):\n",
    "    X, y = df.drop(columns=['SalePrice']), df[['SalePrice']]\n",
    "    X_train, X_test, y_train, y_test = train_test_split(X, y, test_size=0.3, random_state=1)\n",
    "    \n",
    "    # prepare the model with input scaling\n",
    "    pipeline = Pipeline(steps=[('power', PowerTransformer()), ('model', DecisionTreeRegressor())])\n",
    "    \n",
    "    # prepare the model with target scaling\n",
    "    model = TransformedTargetRegressor(regressor=pipeline, transformer=PowerTransformer())\n",
    "    \n",
    "    # evaluate model\n",
    "    model.fit(X_train, y_train)\n",
    "    y_pred = model.predict(X_test)\n",
    "    score = mean_squared_log_error(y_test, y_pred)\n",
    "    \n",
    "    print('mean_squared_log_error: %.3f' % (score))\n",
    "    \n",
    "def update_df(df):\n",
    "    df['TotalBath'] = df[['BsmtFullBath', 'BsmtHalfBath', 'FullBath', 'HalfBath',]].sum(axis=1)\n",
    "    df = pd.get_dummies(df, drop_first=True)\n",
    "    return df"
   ]
  },
  {
   "cell_type": "code",
   "execution_count": 47,
   "metadata": {},
   "outputs": [
    {
     "name": "stdout",
     "output_type": "stream",
     "text": [
      "mean_squared_log_error: 0.051\n"
     ]
    },
    {
     "name": "stderr",
     "output_type": "stream",
     "text": [
      "/home/yves/.local/share/virtualenvs/house_pricing_challenge-q3he5Ew2/lib/python3.6/site-packages/sklearn/preprocessing/_data.py:2960: RuntimeWarning: overflow encountered in power\n",
      "  out[pos] = (np.power(x[pos] + 1, lmbda) - 1) / lmbda\n",
      "/home/yves/.local/share/virtualenvs/house_pricing_challenge-q3he5Ew2/lib/python3.6/site-packages/numpy/core/_methods.py:205: RuntimeWarning: overflow encountered in multiply\n",
      "  x = um.multiply(x, x, out=x)\n",
      "/home/yves/.local/share/virtualenvs/house_pricing_challenge-q3he5Ew2/lib/python3.6/site-packages/numpy/core/_methods.py:216: RuntimeWarning: overflow encountered in reduce\n",
      "  ret = umr_sum(x, axis, dtype, out, keepdims)\n"
     ]
    }
   ],
   "source": [
    "df = update_df(df)\n",
    "fit_and_predict(df)"
   ]
  }
 ],
 "metadata": {
  "kernelspec": {
   "display_name": "Python 3",
   "language": "python",
   "name": "python3"
  },
  "language_info": {
   "codemirror_mode": {
    "name": "ipython",
    "version": 3
   },
   "file_extension": ".py",
   "mimetype": "text/x-python",
   "name": "python",
   "nbconvert_exporter": "python",
   "pygments_lexer": "ipython3",
   "version": "3.6.10"
  }
 },
 "nbformat": 4,
 "nbformat_minor": 4
}
